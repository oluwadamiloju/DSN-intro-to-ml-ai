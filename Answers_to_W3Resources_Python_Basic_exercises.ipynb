{
  "nbformat": 4,
  "nbformat_minor": 0,
  "metadata": {
    "colab": {
      "name": "Answers to W3Resources Python Basic exercises.ipynb",
      "provenance": [],
      "collapsed_sections": []
    },
    "kernelspec": {
      "name": "python3",
      "display_name": "Python 3"
    },
    "language_info": {
      "name": "python"
    }
  },
  "cells": [
    {
      "cell_type": "markdown",
      "source": [
        "1. Write a Python program to print the following string in a specific format (see the output). \n",
        "Sample String : \"Twinkle, twinkle, little star, How I wonder what you are! Up above the world so high, Like a diamond in the sky. Twinkle, twinkle, little star, How I wonder what you are\" Output :\n",
        "\n",
        "Twinkle, twinkle, little star,\n",
        "\tHow I wonder what you are! \n",
        "\t\tUp above the world so high,   \t\t\n",
        "\t\tLike a diamond in the sky. \n",
        "Twinkle, twinkle, little star, \n",
        "\tHow I wonder what you are"
      ],
      "metadata": {
        "id": "upOY-qw93Qdy"
      }
    },
    {
      "cell_type": "code",
      "source": [
        "print(\"Twinkle, twinkle, little star, \\n\\t How I wonder what you are! \\n\\t\\t Up above the world so high, \\n\\t\\t Like a diamond in the sky. \\n Twinkle, twinkle, little star, \\n\\t How I wonder what you are!\")"
      ],
      "metadata": {
        "colab": {
          "base_uri": "https://localhost:8080/"
        },
        "id": "fInr0y4Q4VCi",
        "outputId": "ffd9849f-575d-4982-f541-3e6e96cfd318"
      },
      "execution_count": 1,
      "outputs": [
        {
          "output_type": "stream",
          "name": "stdout",
          "text": [
            "Twinkle, twinkle, little star, \n",
            "\t How I wonder what you are! \n",
            "\t\t Up above the world so high, \n",
            "\t\t Like a diamond in the sky. \n",
            " Twinkle, twinkle, little star, \n",
            "\t How I wonder what you are!\n"
          ]
        }
      ]
    },
    {
      "cell_type": "markdown",
      "source": [
        "2. Write a Python program to get the Python version you are using."
      ],
      "metadata": {
        "id": "i8zhtMcg52Gm"
      }
    },
    {
      "cell_type": "code",
      "source": [
        "# python --version"
      ],
      "metadata": {
        "id": "Y-OWTZMO56mX"
      },
      "execution_count": 4,
      "outputs": []
    },
    {
      "cell_type": "markdown",
      "source": [
        "3. Write a Python program to display the current date and time.\n",
        ">Sample Output :\n",
        "Current date and time :\n",
        "2014-07-05 14:34:14\n",
        "\n",
        "\n"
      ],
      "metadata": {
        "id": "RXIJfEc36bam"
      }
    },
    {
      "cell_type": "code",
      "source": [
        "from datetime import datetime\n",
        "print(datetime.now().strftime(\"%Y-%m-%d %H:%M:%S\"))"
      ],
      "metadata": {
        "colab": {
          "base_uri": "https://localhost:8080/"
        },
        "id": "cCGMwk2-6lVH",
        "outputId": "bf23d876-b939-4f70-85b5-5b14d2caf5f1"
      },
      "execution_count": 13,
      "outputs": [
        {
          "output_type": "stream",
          "name": "stdout",
          "text": [
            "2022-03-02 14:02:57\n"
          ]
        }
      ]
    },
    {
      "cell_type": "markdown",
      "source": [
        "4. Write a Python program which accepts the radius of a circle from the user and compute the area. \n",
        "> Sample Output :\n",
        "r = 1.1\n",
        "Area = 3.8013271108436504"
      ],
      "metadata": {
        "id": "evm6hgS38gpL"
      }
    },
    {
      "cell_type": "code",
      "source": [
        "import math\n",
        "\n",
        "radius = float(input(\"Enter the radius of a circle\"))\n",
        "\n",
        "Area = math.pi * radius ** 2\n",
        "\n",
        "print(\"r = \", radius,  \" Area = \", Area)"
      ],
      "metadata": {
        "colab": {
          "base_uri": "https://localhost:8080/"
        },
        "id": "05SPNt2y8zrL",
        "outputId": "69c27578-38d4-490d-f9f5-7c8db726d794"
      },
      "execution_count": 15,
      "outputs": [
        {
          "output_type": "stream",
          "name": "stdout",
          "text": [
            "Enter the radius of a circle1.1\n",
            "r =  1.1  Area =  3.8013271108436504\n"
          ]
        }
      ]
    },
    {
      "cell_type": "markdown",
      "source": [
        "5. Write a Python program which accepts the user's first and last name and print them in reverse order with a space between them. "
      ],
      "metadata": {
        "id": "46UCBWHA9w-P"
      }
    },
    {
      "cell_type": "code",
      "source": [
        "first_name = input(\"Enter your first name\")\n",
        "last_name = input(\"Enter your last name\")\n",
        "\n",
        "print(last_name, \" \", first_name)"
      ],
      "metadata": {
        "colab": {
          "base_uri": "https://localhost:8080/"
        },
        "id": "gjemxBRg-E-7",
        "outputId": "555935de-27f4-49c8-f58f-32f16be54520"
      },
      "execution_count": 16,
      "outputs": [
        {
          "output_type": "stream",
          "name": "stdout",
          "text": [
            "Enter your first nameSarah\n",
            "Enter your last nameAkinkunmi\n",
            "Akinkunmi   Sarah\n"
          ]
        }
      ]
    },
    {
      "cell_type": "markdown",
      "source": [
        "6. Write a Python program which accepts a sequence of comma-separated numbers from user and generate a list and a tuple with those numbers. Go to the editor\n",
        "Sample data : 3, 5, 7, 23\n",
        "Output :\n",
        "List : ['3', ' 5', ' 7', ' 23']\n",
        "Tuple : ('3', ' 5', ' 7', ' 23')"
      ],
      "metadata": {
        "id": "cfHEmjUa-YJt"
      }
    },
    {
      "cell_type": "code",
      "source": [
        "user_numbers = input(\"Enter a list of comma-separated numbers\")\n",
        "list_of_numbers = list(user_numbers.split(\",\"))\n",
        "tuple_of_numbers = tuple(list_of_numbers)\n",
        "\n",
        "print(list_of_numbers, tuple_of_numbers)"
      ],
      "metadata": {
        "colab": {
          "base_uri": "https://localhost:8080/"
        },
        "id": "Qce0BU4V-daN",
        "outputId": "80c3e1fb-a669-4c0c-f986-99ef612af046"
      },
      "execution_count": 18,
      "outputs": [
        {
          "output_type": "stream",
          "name": "stdout",
          "text": [
            "Enter a list of comma-separated numbers12, 13, 14, 16, 2, 1, 2, 3, 4, 5\n",
            "['12', ' 13', ' 14', ' 16', ' 2', ' 1', ' 2', ' 3', ' 4', ' 5'] ('12', ' 13', ' 14', ' 16', ' 2', ' 1', ' 2', ' 3', ' 4', ' 5')\n"
          ]
        }
      ]
    },
    {
      "cell_type": "markdown",
      "source": [
        "7. Write a Python program to accept a filename from the user and print the extension of that."
      ],
      "metadata": {
        "id": "jGopAiT3HFHX"
      }
    },
    {
      "cell_type": "code",
      "source": [
        "filepath = input(\"Enter filename with it's extension\")\n",
        "\n",
        "ext = filepath.rpartition('.')[-1]\n",
        "\n",
        "print(ext)"
      ],
      "metadata": {
        "colab": {
          "base_uri": "https://localhost:8080/"
        },
        "id": "SuKmD62uHkpL",
        "outputId": "dff755b1-65d9-42a0-eccc-b93a356e739c"
      },
      "execution_count": 23,
      "outputs": [
        {
          "output_type": "stream",
          "name": "stdout",
          "text": [
            "Enter filename with it's extensionsarah.java\n",
            "java\n"
          ]
        }
      ]
    },
    {
      "cell_type": "markdown",
      "source": [
        "8. Write a Python program to display the first and last colors from the following list. \n",
        ">color_list = [\"Red\",\"Green\",\"White\" ,\"Black\"]"
      ],
      "metadata": {
        "id": "3IoIuRehJIjh"
      }
    },
    {
      "cell_type": "code",
      "source": [
        "color_list = [\"Red\", \"Green\", \"White\" ,\"Black\"]\n",
        "print(color_list[0], color_list[-1])"
      ],
      "metadata": {
        "colab": {
          "base_uri": "https://localhost:8080/"
        },
        "id": "f71Hx2PiJST0",
        "outputId": "e4313936-3067-4dd6-9236-331f0e80b561"
      },
      "execution_count": 24,
      "outputs": [
        {
          "output_type": "stream",
          "name": "stdout",
          "text": [
            "Red Black\n"
          ]
        }
      ]
    },
    {
      "cell_type": "markdown",
      "source": [
        "9. Write a Python program to display the examination schedule. (extract the date from exam_st_date).\n",
        "exam_st_date = (11, 12, 2014)\n",
        ">Sample Output : The examination will start from : 11 / 12 / 2014"
      ],
      "metadata": {
        "id": "YKriNjDRJl0v"
      }
    },
    {
      "cell_type": "code",
      "source": [
        "exam_st_date = (11, 12, 2014)\n",
        "\n",
        "day, month, year = exam_st_date\n",
        "\n",
        "print(\"The examination will start from : \", day,  \"/\", month, \"/\", year )"
      ],
      "metadata": {
        "colab": {
          "base_uri": "https://localhost:8080/"
        },
        "id": "5WrehwlvLGBw",
        "outputId": "1fbe1b91-dadb-45a0-c7c7-0585d04e2884"
      },
      "execution_count": 27,
      "outputs": [
        {
          "output_type": "stream",
          "name": "stdout",
          "text": [
            "The examination will start from :  11 / 12 / 2014\n"
          ]
        }
      ]
    },
    {
      "cell_type": "markdown",
      "source": [
        "10. Write a Python program that accepts an integer (n) and computes the value of n+nn+nnn. \n",
        "Sample value of n is 5\n",
        "Expected Result : 615"
      ],
      "metadata": {
        "id": "RMmMRi17Mk2q"
      }
    },
    {
      "cell_type": "code",
      "source": [
        "user_input = int(input(\"Enter a number\"))\n",
        "\n",
        "print(user_input + (11 * user_input) + (111 * user_input))"
      ],
      "metadata": {
        "colab": {
          "base_uri": "https://localhost:8080/"
        },
        "id": "6e82himIMuBD",
        "outputId": "caa5c456-7708-4da8-d17a-0ce4f010a243"
      },
      "execution_count": 29,
      "outputs": [
        {
          "output_type": "stream",
          "name": "stdout",
          "text": [
            "Enter a number5\n",
            "615\n"
          ]
        }
      ]
    }
  ]
}