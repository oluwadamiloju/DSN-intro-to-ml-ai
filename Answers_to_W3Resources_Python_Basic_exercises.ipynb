{
  "nbformat": 4,
  "nbformat_minor": 0,
  "metadata": {
    "colab": {
      "name": "Answers to W3Resources Python Basic exercises.ipynb",
      "provenance": [],
      "collapsed_sections": []
    },
    "kernelspec": {
      "name": "python3",
      "display_name": "Python 3"
    },
    "language_info": {
      "name": "python"
    }
  },
  "cells": [
    {
      "cell_type": "markdown",
      "source": [
        "1. Write a Python program to print the following string in a specific format (see the output). \n",
        "Sample String : \"Twinkle, twinkle, little star, How I wonder what you are! Up above the world so high, Like a diamond in the sky. Twinkle, twinkle, little star, How I wonder what you are\" Output :\n",
        "\n",
        "Twinkle, twinkle, little star,\n",
        "\tHow I wonder what you are! \n",
        "\t\tUp above the world so high,   \t\t\n",
        "\t\tLike a diamond in the sky. \n",
        "Twinkle, twinkle, little star, \n",
        "\tHow I wonder what you are"
      ],
      "metadata": {
        "id": "upOY-qw93Qdy"
      }
    },
    {
      "cell_type": "code",
      "source": [
        "print(\"Twinkle, twinkle, little star, \\n\\t How I wonder what you are! \\n\\t\\t Up above the world so high, \\n\\t\\t Like a diamond in the sky. \\n Twinkle, twinkle, little star, \\n\\t How I wonder what you are!\")"
      ],
      "metadata": {
        "colab": {
          "base_uri": "https://localhost:8080/"
        },
        "id": "fInr0y4Q4VCi",
        "outputId": "ffd9849f-575d-4982-f541-3e6e96cfd318"
      },
      "execution_count": null,
      "outputs": [
        {
          "output_type": "stream",
          "name": "stdout",
          "text": [
            "Twinkle, twinkle, little star, \n",
            "\t How I wonder what you are! \n",
            "\t\t Up above the world so high, \n",
            "\t\t Like a diamond in the sky. \n",
            " Twinkle, twinkle, little star, \n",
            "\t How I wonder what you are!\n"
          ]
        }
      ]
    },
    {
      "cell_type": "markdown",
      "source": [
        "2. Write a Python program to get the Python version you are using."
      ],
      "metadata": {
        "id": "i8zhtMcg52Gm"
      }
    },
    {
      "cell_type": "code",
      "source": [
        "# python --version"
      ],
      "metadata": {
        "id": "Y-OWTZMO56mX"
      },
      "execution_count": null,
      "outputs": []
    },
    {
      "cell_type": "markdown",
      "source": [
        "3. Write a Python program to display the current date and time.\n",
        ">Sample Output :\n",
        "Current date and time :\n",
        "2014-07-05 14:34:14\n",
        "\n",
        "\n"
      ],
      "metadata": {
        "id": "RXIJfEc36bam"
      }
    },
    {
      "cell_type": "code",
      "source": [
        "from datetime import datetime\n",
        "print(datetime.now().strftime(\"%Y-%m-%d %H:%M:%S\"))"
      ],
      "metadata": {
        "colab": {
          "base_uri": "https://localhost:8080/"
        },
        "id": "cCGMwk2-6lVH",
        "outputId": "bf23d876-b939-4f70-85b5-5b14d2caf5f1"
      },
      "execution_count": null,
      "outputs": [
        {
          "output_type": "stream",
          "name": "stdout",
          "text": [
            "2022-03-02 14:02:57\n"
          ]
        }
      ]
    },
    {
      "cell_type": "markdown",
      "source": [
        "4. Write a Python program which accepts the radius of a circle from the user and compute the area. \n",
        "> Sample Output :\n",
        "r = 1.1\n",
        "Area = 3.8013271108436504"
      ],
      "metadata": {
        "id": "evm6hgS38gpL"
      }
    },
    {
      "cell_type": "code",
      "source": [
        "import math\n",
        "\n",
        "radius = float(input(\"Enter the radius of a circle\"))\n",
        "\n",
        "Area = math.pi * radius ** 2\n",
        "\n",
        "print(\"r = \", radius,  \" Area = \", Area)"
      ],
      "metadata": {
        "colab": {
          "base_uri": "https://localhost:8080/"
        },
        "id": "05SPNt2y8zrL",
        "outputId": "69c27578-38d4-490d-f9f5-7c8db726d794"
      },
      "execution_count": null,
      "outputs": [
        {
          "output_type": "stream",
          "name": "stdout",
          "text": [
            "Enter the radius of a circle1.1\n",
            "r =  1.1  Area =  3.8013271108436504\n"
          ]
        }
      ]
    },
    {
      "cell_type": "markdown",
      "source": [
        "5. Write a Python program which accepts the user's first and last name and print them in reverse order with a space between them. "
      ],
      "metadata": {
        "id": "46UCBWHA9w-P"
      }
    },
    {
      "cell_type": "code",
      "source": [
        "first_name = input(\"Enter your first name\")\n",
        "last_name = input(\"Enter your last name\")\n",
        "\n",
        "print(last_name, \" \", first_name)"
      ],
      "metadata": {
        "colab": {
          "base_uri": "https://localhost:8080/"
        },
        "id": "gjemxBRg-E-7",
        "outputId": "555935de-27f4-49c8-f58f-32f16be54520"
      },
      "execution_count": null,
      "outputs": [
        {
          "output_type": "stream",
          "name": "stdout",
          "text": [
            "Enter your first nameSarah\n",
            "Enter your last nameAkinkunmi\n",
            "Akinkunmi   Sarah\n"
          ]
        }
      ]
    },
    {
      "cell_type": "markdown",
      "source": [
        "6. Write a Python program which accepts a sequence of comma-separated numbers from user and generate a list and a tuple with those numbers. Go to the editor\n",
        "Sample data : 3, 5, 7, 23\n",
        "Output :\n",
        "List : ['3', ' 5', ' 7', ' 23']\n",
        "Tuple : ('3', ' 5', ' 7', ' 23')"
      ],
      "metadata": {
        "id": "cfHEmjUa-YJt"
      }
    },
    {
      "cell_type": "code",
      "source": [
        "user_numbers = input(\"Enter a list of comma-separated numbers\")\n",
        "list_of_numbers = list(user_numbers.split(\",\"))\n",
        "tuple_of_numbers = tuple(list_of_numbers)\n",
        "\n",
        "print(list_of_numbers, tuple_of_numbers)"
      ],
      "metadata": {
        "colab": {
          "base_uri": "https://localhost:8080/"
        },
        "id": "Qce0BU4V-daN",
        "outputId": "80c3e1fb-a669-4c0c-f986-99ef612af046"
      },
      "execution_count": null,
      "outputs": [
        {
          "output_type": "stream",
          "name": "stdout",
          "text": [
            "Enter a list of comma-separated numbers12, 13, 14, 16, 2, 1, 2, 3, 4, 5\n",
            "['12', ' 13', ' 14', ' 16', ' 2', ' 1', ' 2', ' 3', ' 4', ' 5'] ('12', ' 13', ' 14', ' 16', ' 2', ' 1', ' 2', ' 3', ' 4', ' 5')\n"
          ]
        }
      ]
    },
    {
      "cell_type": "markdown",
      "source": [
        "7. Write a Python program to accept a filename from the user and print the extension of that."
      ],
      "metadata": {
        "id": "jGopAiT3HFHX"
      }
    },
    {
      "cell_type": "code",
      "source": [
        "filepath = input(\"Enter filename with it's extension\")\n",
        "\n",
        "ext = filepath.rpartition('.')[-1]\n",
        "\n",
        "print(ext)"
      ],
      "metadata": {
        "colab": {
          "base_uri": "https://localhost:8080/"
        },
        "id": "SuKmD62uHkpL",
        "outputId": "dff755b1-65d9-42a0-eccc-b93a356e739c"
      },
      "execution_count": null,
      "outputs": [
        {
          "output_type": "stream",
          "name": "stdout",
          "text": [
            "Enter filename with it's extensionsarah.java\n",
            "java\n"
          ]
        }
      ]
    },
    {
      "cell_type": "markdown",
      "source": [
        "8. Write a Python program to display the first and last colors from the following list. \n",
        ">color_list = [\"Red\",\"Green\",\"White\" ,\"Black\"]"
      ],
      "metadata": {
        "id": "3IoIuRehJIjh"
      }
    },
    {
      "cell_type": "code",
      "source": [
        "color_list = [\"Red\", \"Green\", \"White\" ,\"Black\"]\n",
        "print(color_list[0], color_list[-1])"
      ],
      "metadata": {
        "colab": {
          "base_uri": "https://localhost:8080/"
        },
        "id": "f71Hx2PiJST0",
        "outputId": "e4313936-3067-4dd6-9236-331f0e80b561"
      },
      "execution_count": null,
      "outputs": [
        {
          "output_type": "stream",
          "name": "stdout",
          "text": [
            "Red Black\n"
          ]
        }
      ]
    },
    {
      "cell_type": "markdown",
      "source": [
        "9. Write a Python program to display the examination schedule. (extract the date from exam_st_date).\n",
        "exam_st_date = (11, 12, 2014)\n",
        ">Sample Output : The examination will start from : 11 / 12 / 2014"
      ],
      "metadata": {
        "id": "YKriNjDRJl0v"
      }
    },
    {
      "cell_type": "code",
      "source": [
        "exam_st_date = (11, 12, 2014)\n",
        "\n",
        "day, month, year = exam_st_date\n",
        "\n",
        "print(\"The examination will start from : \", day,  \"/\", month, \"/\", year )"
      ],
      "metadata": {
        "colab": {
          "base_uri": "https://localhost:8080/"
        },
        "id": "5WrehwlvLGBw",
        "outputId": "1fbe1b91-dadb-45a0-c7c7-0585d04e2884"
      },
      "execution_count": null,
      "outputs": [
        {
          "output_type": "stream",
          "name": "stdout",
          "text": [
            "The examination will start from :  11 / 12 / 2014\n"
          ]
        }
      ]
    },
    {
      "cell_type": "markdown",
      "source": [
        "10. Write a Python program that accepts an integer (n) and computes the value of n+nn+nnn. \n",
        "Sample value of n is 5\n",
        "Expected Result : 615"
      ],
      "metadata": {
        "id": "RMmMRi17Mk2q"
      }
    },
    {
      "cell_type": "code",
      "source": [
        "user_input = int(input(\"Enter a number\"))\n",
        "\n",
        "print(user_input + (11 * user_input) + (111 * user_input))"
      ],
      "metadata": {
        "colab": {
          "base_uri": "https://localhost:8080/"
        },
        "id": "6e82himIMuBD",
        "outputId": "caa5c456-7708-4da8-d17a-0ce4f010a243"
      },
      "execution_count": null,
      "outputs": [
        {
          "output_type": "stream",
          "name": "stdout",
          "text": [
            "Enter a number5\n",
            "615\n"
          ]
        }
      ]
    },
    {
      "cell_type": "markdown",
      "source": [
        "11. Write a Python program to print the documents (syntax, description etc.) of Python built-in function(s).\n",
        "Sample function : abs()\n",
        "Expected Result :\n",
        "abs(number) -> number\n",
        "Return the absolute value of the argument."
      ],
      "metadata": {
        "id": "BQ_IFn3Ql0b5"
      }
    },
    {
      "cell_type": "code",
      "source": [
        "print(abs.__doc__)"
      ],
      "metadata": {
        "colab": {
          "base_uri": "https://localhost:8080/"
        },
        "id": "HIYxHbwHl-u3",
        "outputId": "57b73542-d2bc-46c9-e87b-2e0af7a77f74"
      },
      "execution_count": 1,
      "outputs": [
        {
          "output_type": "stream",
          "name": "stdout",
          "text": [
            "Return the absolute value of the argument.\n"
          ]
        }
      ]
    },
    {
      "cell_type": "markdown",
      "source": [
        "12. Write a Python program to print the calendar of a given month and year.\n",
        "Note : Use 'calendar' module."
      ],
      "metadata": {
        "id": "80nWEqyApdHH"
      }
    },
    {
      "cell_type": "code",
      "source": [
        "import calendar\n",
        "\n",
        "month = 3\n",
        "year = 2022\n",
        "\n",
        "print(calendar.month(year, month))"
      ],
      "metadata": {
        "colab": {
          "base_uri": "https://localhost:8080/"
        },
        "id": "UQwrFHOTpgqY",
        "outputId": "83aabf2f-3def-43f8-d80d-254777a13f0e"
      },
      "execution_count": 3,
      "outputs": [
        {
          "output_type": "stream",
          "name": "stdout",
          "text": [
            "     March 2022\n",
            "Mo Tu We Th Fr Sa Su\n",
            "    1  2  3  4  5  6\n",
            " 7  8  9 10 11 12 13\n",
            "14 15 16 17 18 19 20\n",
            "21 22 23 24 25 26 27\n",
            "28 29 30 31\n",
            "\n"
          ]
        }
      ]
    },
    {
      "cell_type": "markdown",
      "source": [
        "13. Write a Python program to print the following 'here document'. Go to the editor\n",
        "Sample string :\n",
        "a string that you \"don't\" have to escape\n",
        "This\n",
        "is a ....... multi-line\n",
        "heredoc string --------> example"
      ],
      "metadata": {
        "id": "BKYLgWBXqA5G"
      }
    },
    {
      "cell_type": "code",
      "source": [
        "print(\"\"\"\n",
        "  a string that you \"don't\" have to escape\n",
        "  This\n",
        "  is a ....... multi-line\n",
        "  heredoc string --------> example\n",
        "\"\"\")"
      ],
      "metadata": {
        "colab": {
          "base_uri": "https://localhost:8080/"
        },
        "id": "wuMhvdRBqeR9",
        "outputId": "d7e2a955-6cf0-4756-c228-f213e3001df5"
      },
      "execution_count": 4,
      "outputs": [
        {
          "output_type": "stream",
          "name": "stdout",
          "text": [
            "\n",
            "  a string that you \"don't\" have to escape\n",
            "  This\n",
            "  is a ....... multi-line\n",
            "  heredoc string --------> example\n",
            "\n"
          ]
        }
      ]
    },
    {
      "cell_type": "markdown",
      "source": [
        "14. Write a Python program to calculate number of days between two dates.\n",
        "Sample dates : (2014, 7, 2), (2014, 7, 11)\n",
        "Expected output : 9 days"
      ],
      "metadata": {
        "id": "g9AfxIxTqtPx"
      }
    },
    {
      "cell_type": "code",
      "source": [
        "from datetime import date\n",
        "\n",
        "date1 = date(2014, 7, 2)\n",
        "date2 = date(2014, 7, 11)\n",
        "\n",
        "difference = date2 - date1\n",
        "\n",
        "print(difference.days, \"days\")"
      ],
      "metadata": {
        "colab": {
          "base_uri": "https://localhost:8080/"
        },
        "id": "oDYp5IqIrP-U",
        "outputId": "c267c9af-b596-426f-8b38-3202cd61b49c"
      },
      "execution_count": 8,
      "outputs": [
        {
          "output_type": "stream",
          "name": "stdout",
          "text": [
            "9 days\n"
          ]
        }
      ]
    },
    {
      "cell_type": "markdown",
      "source": [
        "15. Write a Python program to get the volume of a sphere with radius 6."
      ],
      "metadata": {
        "id": "wfq9yQdhsLJy"
      }
    },
    {
      "cell_type": "code",
      "source": [
        "import math\n",
        "\n",
        "radius = 6\n",
        "\n",
        "volume = (4 / 3) * math.pi * radius ** 3\n",
        "\n",
        "print(volume)"
      ],
      "metadata": {
        "colab": {
          "base_uri": "https://localhost:8080/"
        },
        "id": "TpH1mraRsUQj",
        "outputId": "7c501725-7951-4403-9ca0-43af65a1cb96"
      },
      "execution_count": 10,
      "outputs": [
        {
          "output_type": "stream",
          "name": "stdout",
          "text": [
            "904.7786842338603\n"
          ]
        }
      ]
    },
    {
      "cell_type": "markdown",
      "source": [
        "16. Write a Python program to get the difference between a given number and 17, if the number is greater than 17 return double the absolute difference."
      ],
      "metadata": {
        "id": "065P6NcYsxku"
      }
    },
    {
      "cell_type": "code",
      "source": [
        "rnd_number = int(input(\"Enter a number\"))\n",
        "\n",
        "if rnd_number > 17: \n",
        "  print(abs(2 * (rnd_number - 17)))\n",
        "else:\n",
        "  print(17 - rnd_number)"
      ],
      "metadata": {
        "colab": {
          "base_uri": "https://localhost:8080/"
        },
        "id": "M7OsDlFgs3mW",
        "outputId": "c285706d-ad1e-4e68-c6dc-70d020fecc31"
      },
      "execution_count": 14,
      "outputs": [
        {
          "output_type": "stream",
          "name": "stdout",
          "text": [
            "Enter a number20\n",
            "6\n"
          ]
        }
      ]
    },
    {
      "cell_type": "markdown",
      "source": [
        "17. Write a Python program to test whether a number is within 100 of 1000 or 2000."
      ],
      "metadata": {
        "id": "1anFQOSauDzf"
      }
    },
    {
      "cell_type": "code",
      "source": [
        "num = int(input(\"Enter a number\"))\n",
        "\n",
        "if abs(1000 - num) <= 100 or abs(2000 - num) <= 100:\n",
        "  print(True)\n",
        "else: \n",
        "  print(False)"
      ],
      "metadata": {
        "colab": {
          "base_uri": "https://localhost:8080/"
        },
        "id": "kpd4F3hSuceT",
        "outputId": "0e28a300-cbe7-451d-8f3c-93ffd29ece41"
      },
      "execution_count": 27,
      "outputs": [
        {
          "output_type": "stream",
          "name": "stdout",
          "text": [
            "Enter a number3000\n",
            "False\n"
          ]
        }
      ]
    },
    {
      "cell_type": "markdown",
      "source": [
        "18. Write a Python program to calculate the sum of three given numbers, if the values are equal then return three times of their sum. "
      ],
      "metadata": {
        "id": "AlYFeKPiw8Io"
      }
    },
    {
      "cell_type": "code",
      "source": [
        "first_num = int(input(\"Enter a number\"))\n",
        "second_num = int(input(\"Enter a number\"))\n",
        "third_num =  int(input(\"Enter a number\"))\n",
        "\n",
        "sum = first_num + second_num + third_num\n",
        "\n",
        "if first_num == second_num and first_num == third_num:\n",
        "  print(3 * sum)\n",
        "else:\n",
        "  print(sum)"
      ],
      "metadata": {
        "colab": {
          "base_uri": "https://localhost:8080/"
        },
        "id": "_BBG36_QxAI6",
        "outputId": "d771078b-9efd-43e4-afed-79e016dfda44"
      },
      "execution_count": 28,
      "outputs": [
        {
          "output_type": "stream",
          "name": "stdout",
          "text": [
            "Enter a number1\n",
            "Enter a number1\n",
            "Enter a number1\n",
            "9\n"
          ]
        }
      ]
    },
    {
      "cell_type": "markdown",
      "source": [
        "19. Write a Python program to get a new string from a given string where \"Is\" has been added to the front. If the given string already begins with \"Is\" then return the string unchanged."
      ],
      "metadata": {
        "id": "zUOlEZ8Nx6Na"
      }
    },
    {
      "cell_type": "code",
      "source": [
        "word = input(\"Enter a word\")\n",
        "\n",
        "if word.startswith(\"is\") or word.startswith(\"Is\"):\n",
        "  print(word)\n",
        "else:\n",
        "  print(\"Is\" + word)"
      ],
      "metadata": {
        "colab": {
          "base_uri": "https://localhost:8080/"
        },
        "id": "ldTelkawx_YL",
        "outputId": "383ecb4e-1d8f-4e54-d282-8077a014b482"
      },
      "execution_count": 29,
      "outputs": [
        {
          "output_type": "stream",
          "name": "stdout",
          "text": [
            "Enter a wordIsmail\n",
            "Ismail\n"
          ]
        }
      ]
    },
    {
      "cell_type": "markdown",
      "source": [
        "20. Write a Python program to get a string which is n (non-negative integer) copies of a given string. "
      ],
      "metadata": {
        "id": "BLDSBdxXytdQ"
      }
    },
    {
      "cell_type": "code",
      "source": [
        "number_of_repetitions = int(input(\"Enter number of repetitions\"))\n",
        "word_in_case = input(\"Enter a word\")\n",
        "\n",
        "print(number_of_repetitions * word_in_case)"
      ],
      "metadata": {
        "colab": {
          "base_uri": "https://localhost:8080/"
        },
        "id": "sh2vVuVHyxLc",
        "outputId": "d099d69d-bfac-42e5-ab3d-7cd88c765454"
      },
      "execution_count": 30,
      "outputs": [
        {
          "output_type": "stream",
          "name": "stdout",
          "text": [
            "Enter number of repetitions3\n",
            "Enter a wordab\n",
            "ababab\n"
          ]
        }
      ]
    },
    {
      "cell_type": "markdown",
      "source": [
        "21. Write a Python program to find whether a given number (accept from the user) is even or odd, print out an appropriate message to the user."
      ],
      "metadata": {
        "id": "GR5PL1cpzWqC"
      }
    },
    {
      "cell_type": "code",
      "source": [
        "user_input = int(input(\"Enter a number\"))\n",
        "\n",
        "if user_input % 2 == 0:\n",
        "  print(user_input, \"is even\")\n",
        "else:\n",
        "  print(user_input, \"is odd\")"
      ],
      "metadata": {
        "colab": {
          "base_uri": "https://localhost:8080/"
        },
        "id": "CMJ5mUUGzdaO",
        "outputId": "87669bfe-c05c-4062-824d-0152cf1c7d82"
      },
      "execution_count": 31,
      "outputs": [
        {
          "output_type": "stream",
          "name": "stdout",
          "text": [
            "Enter a number5\n",
            "5 is odd\n"
          ]
        }
      ]
    },
    {
      "cell_type": "markdown",
      "source": [
        "22. Write a Python program to count the number 4 in a given list."
      ],
      "metadata": {
        "id": "tUzAThTcz0xI"
      }
    },
    {
      "cell_type": "code",
      "source": [
        "list_of_numbers = [1, 4, 5, 4, 2, 4, 8, 9, 13, 4]\n",
        "\n",
        "counter = 0\n",
        "\n",
        "for a in list_of_numbers:\n",
        "  if a == 4:\n",
        "    counter += 1\n",
        "\n",
        "print(\"4 appeared\", counter, \"times\")"
      ],
      "metadata": {
        "colab": {
          "base_uri": "https://localhost:8080/"
        },
        "id": "gRJCoW4Ez5LF",
        "outputId": "6b8ad07d-152f-4b6c-b6ec-34151df54480"
      },
      "execution_count": 32,
      "outputs": [
        {
          "output_type": "stream",
          "name": "stdout",
          "text": [
            "4 appeared 4 times\n"
          ]
        }
      ]
    },
    {
      "cell_type": "markdown",
      "source": [
        "23. Write a Python program to get the n (non-negative integer) copies of the first 2 characters of a given string. Return the n copies of the whole string if the length is less than 2. "
      ],
      "metadata": {
        "id": "BduoObrE0cEF"
      }
    },
    {
      "cell_type": "code",
      "source": [
        "number_of_copies = int(input(\"Enter number of repetitions\"))\n",
        "string_in_case = input(\"Enter a word\")\n",
        "\n",
        "if len(string_in_case) < 2:\n",
        "  print(number_of_copies * string_in_case)\n",
        "else:\n",
        "  print(number_of_repetitions * (string_in_case[0:2]))"
      ],
      "metadata": {
        "colab": {
          "base_uri": "https://localhost:8080/"
        },
        "id": "xx6nRk4U0qKe",
        "outputId": "af675536-75eb-44c6-ccc3-f2b43b7efe3f"
      },
      "execution_count": 34,
      "outputs": [
        {
          "output_type": "stream",
          "name": "stdout",
          "text": [
            "Enter number of repetitions2\n",
            "Enter a wordSarah\n",
            "SaSaSa\n"
          ]
        }
      ]
    },
    {
      "cell_type": "markdown",
      "source": [
        "24. Write a Python program to test whether a passed letter is a vowel or not."
      ],
      "metadata": {
        "id": "ZDMOpz7a1dNs"
      }
    },
    {
      "cell_type": "code",
      "source": [
        "list_of_vowels = ['a', 'e', 'i', 'o', 'u']\n",
        "\n",
        "vowel = 'U'\n",
        "\n",
        "if vowel.lower() in list_of_vowels:\n",
        "  print(vowel, \"is a vowel\")"
      ],
      "metadata": {
        "colab": {
          "base_uri": "https://localhost:8080/"
        },
        "id": "idrrFN_k1i49",
        "outputId": "2ee3711c-920c-47c1-cbc1-b5ee7f7f66c3"
      },
      "execution_count": 35,
      "outputs": [
        {
          "output_type": "stream",
          "name": "stdout",
          "text": [
            "U is a vowel\n"
          ]
        }
      ]
    },
    {
      "cell_type": "markdown",
      "source": [
        "25. Write a Python program to check whether a specified value is contained in a group of values. Go to the editor\n",
        "Test Data :\n",
        "3 -> [1, 5, 8, 3] : True\n",
        "-1 -> [1, 5, 8, 3] : False"
      ],
      "metadata": {
        "id": "LNpBisbS3E1B"
      }
    },
    {
      "cell_type": "code",
      "source": [
        "test_list = [1, 5, 8, 3]\n",
        "\n",
        "value = -1\n",
        "\n",
        "if value in test_list:\n",
        "  print(True)\n",
        "else:\n",
        "  print(False)"
      ],
      "metadata": {
        "colab": {
          "base_uri": "https://localhost:8080/"
        },
        "id": "HadJnMPl3KQS",
        "outputId": "c7db1b58-cc98-4211-da1b-3fd5675867db"
      },
      "execution_count": 36,
      "outputs": [
        {
          "output_type": "stream",
          "name": "stdout",
          "text": [
            "False\n"
          ]
        }
      ]
    },
    {
      "cell_type": "markdown",
      "source": [
        "26. Write a Python program to create a histogram from a given list of integers."
      ],
      "metadata": {
        "id": "Lof8zu9u3b4K"
      }
    },
    {
      "cell_type": "code",
      "source": [
        "import matplotlib.pyplot as plt\n",
        "\n",
        "test_list_2 = [1, 4, 5, 2, 6, 1, 4, 5, 7]\n",
        "\n",
        "plt.hist(test_list_2)\n",
        "\n",
        "plt.show()"
      ],
      "metadata": {
        "colab": {
          "base_uri": "https://localhost:8080/",
          "height": 265
        },
        "id": "ftW424ci3mN8",
        "outputId": "2c7c7ec1-ef0c-4034-cc0c-07f615264e9f"
      },
      "execution_count": 41,
      "outputs": [
        {
          "output_type": "display_data",
          "data": {
            "image/png": "[encoded data removed]",
            "text/plain": [
              "<Figure size 432x288 with 1 Axes>"
            ]
          },
          "metadata": {
            "needs_background": "light"
          }
        }
      ]
    },
    {
      "cell_type": "markdown",
      "source": [
        "27. Write a Python program to concatenate all elements in a list into a string and return it."
      ],
      "metadata": {
        "id": "HHK5N5OU4wIU"
      }
    },
    {
      "cell_type": "code",
      "source": [
        "list_of_strings = [\"Sarah\", \"is\", \"a\", \"fine\", \"girl\"]\n",
        "sentence = \"\"\n",
        "\n",
        "for a in list_of_strings:\n",
        "  sentence += a + \" \"\n",
        "\n",
        "print(sentence)"
      ],
      "metadata": {
        "colab": {
          "base_uri": "https://localhost:8080/"
        },
        "id": "4XHAbgXC4vpJ",
        "outputId": "03eb35cb-09ae-49f4-9ac2-a80baed4655b"
      },
      "execution_count": 42,
      "outputs": [
        {
          "output_type": "stream",
          "name": "stdout",
          "text": [
            "Sarah is a fine girl \n"
          ]
        }
      ]
    },
    {
      "cell_type": "markdown",
      "source": [
        "28. Write a Python program to print all even numbers from a given numbers list in the same order and stop the printing if any numbers that come after 237 in the sequence. Go to the editor\n",
        "Sample numbers list :\n",
        "\n",
        "> numbers = [    \n",
        "    386, 462, 47, 418, 907, 344, 236, 375, 823, 566, 597, 978, 328, 615, 953, 345, \n",
        "    399, 162, 758, 219, 918, 237, 412, 566, 826, 248, 866, 950, 626, 949, 687, 217, \n",
        "    815, 67, 104, 58, 512, 24, 892, 894, 767, 553, 81, 379, 843, 831, 445, 742, 717, \n",
        "    958,743, 527\n",
        "    ]"
      ],
      "metadata": {
        "id": "55vIwreV5Toz"
      }
    },
    {
      "cell_type": "code",
      "source": [
        "numbers = [386, 462, 47, 418, 907, 344, 236, 375, 823, 566, 597, 978, 328, \n",
        "           615, 953, 345, 399, 162, 758, 219, 918, 237, 412, 566, 826, 248, \n",
        "           866, 950, 626, 949, 687, 217, 815, 67, 104, 58, 512, 24, 892, 894, \n",
        "           767, 553, 81, 379, 843, 831, 445, 742, 717, 958,743, 527]\n",
        "\n",
        "for w in numbers:\n",
        "  if w % 2 == 0:\n",
        "    print(w)\n",
        "  if w == 237:\n",
        "    break"
      ],
      "metadata": {
        "colab": {
          "base_uri": "https://localhost:8080/"
        },
        "id": "DZ4e2GS45TNn",
        "outputId": "e0c66888-8d77-4400-e5d6-7cb2a6f7b9fd"
      },
      "execution_count": 43,
      "outputs": [
        {
          "output_type": "stream",
          "name": "stdout",
          "text": [
            "386\n",
            "462\n",
            "418\n",
            "344\n",
            "236\n",
            "566\n",
            "978\n",
            "328\n",
            "162\n",
            "758\n",
            "918\n"
          ]
        }
      ]
    },
    {
      "cell_type": "markdown",
      "source": [
        "29. Write a Python program to print out a set containing all the colors from color_list_1 which are not present in color_list_2. Go to the editor\n",
        "Test Data :\n",
        "color_list_1 = set([\"White\", \"Black\", \"Red\"])\n",
        "color_list_2 = set([\"Red\", \"Green\"])\n",
        "Expected Output :\n",
        "{'Black', 'White'}"
      ],
      "metadata": {
        "id": "YoYfRYdr6K3w"
      }
    },
    {
      "cell_type": "code",
      "source": [
        "color_list_1 = set([\"White\", \"Black\", \"Red\"])\n",
        "color_list_2 = set([\"Red\", \"Green\"])\n",
        "\n",
        "new_color_list = set()\n",
        "\n",
        "for q in color_list_1:\n",
        "  if q not in color_list_2:\n",
        "    new_color_list.add(q)\n",
        "\n",
        "print(new_color_list)"
      ],
      "metadata": {
        "colab": {
          "base_uri": "https://localhost:8080/"
        },
        "id": "x1ItdLO56PKN",
        "outputId": "48cff3e1-5f89-4f6f-defb-e6053cd99206"
      },
      "execution_count": 44,
      "outputs": [
        {
          "output_type": "stream",
          "name": "stdout",
          "text": [
            "{'White', 'Black'}\n"
          ]
        }
      ]
    },
    {
      "cell_type": "markdown",
      "source": [
        "30. Write a Python program that will accept the base and height of a triangle and compute the area."
      ],
      "metadata": {
        "id": "nqYrdUVJ7ad0"
      }
    },
    {
      "cell_type": "code",
      "source": [
        "base = int(input(\"Enter the base of a triangle\"))\n",
        "height = int(input(\"Enter the height of a triangle\"))\n",
        "\n",
        "area = (base * height) / 2\n",
        "\n",
        "print(area)"
      ],
      "metadata": {
        "colab": {
          "base_uri": "https://localhost:8080/"
        },
        "id": "h2vCJIbQ7eHF",
        "outputId": "a70feecc-4153-46f3-ae1e-eeeca050dd6c"
      },
      "execution_count": 46,
      "outputs": [
        {
          "output_type": "stream",
          "name": "stdout",
          "text": [
            "Enter the base of a triangle2\n",
            "Enter the height of a triangle3\n",
            "3.0\n"
          ]
        }
      ]
    }
  ]
}