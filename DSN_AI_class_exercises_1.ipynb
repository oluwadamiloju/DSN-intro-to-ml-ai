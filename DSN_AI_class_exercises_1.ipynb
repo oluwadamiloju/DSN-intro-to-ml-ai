{
  "nbformat": 4,
  "nbformat_minor": 0,
  "metadata": {
    "colab": {
      "name": "DSN AI class exercises 1.ipynb",
      "provenance": [],
      "collapsed_sections": []
    },
    "kernelspec": {
      "name": "python3",
      "display_name": "Python 3"
    },
    "language_info": {
      "name": "python"
    }
  },
  "cells": [
    {
      "cell_type": "markdown",
      "source": [
        "Exercises"
      ],
      "metadata": {
        "id": "1rp-Iy2pVw85"
      }
    },
    {
      "cell_type": "code",
      "execution_count": null,
      "metadata": {
        "colab": {
          "base_uri": "https://localhost:8080/"
        },
        "id": "pe6PKth-RLV7",
        "outputId": "b63595df-ce98-4011-bfaa-d865bf0667b9"
      },
      "outputs": [
        {
          "output_type": "execute_result",
          "data": {
            "text/plain": [
              "-4"
            ]
          },
          "metadata": {},
          "execution_count": 1
        }
      ],
      "source": [
        "2 + 6 - 12"
      ]
    },
    {
      "cell_type": "code",
      "source": [
        "4 * 3 - 8"
      ],
      "metadata": {
        "colab": {
          "base_uri": "https://localhost:8080/"
        },
        "id": "4s-IFAAPV4_-",
        "outputId": "352b9fee-6f25-48da-85d3-62950f48bc11"
      },
      "execution_count": null,
      "outputs": [
        {
          "output_type": "execute_result",
          "data": {
            "text/plain": [
              "4"
            ]
          },
          "metadata": {},
          "execution_count": 2
        }
      ]
    },
    {
      "cell_type": "code",
      "source": [
        "81 / 6"
      ],
      "metadata": {
        "colab": {
          "base_uri": "https://localhost:8080/"
        },
        "id": "dCbsCjDmV_VI",
        "outputId": "0865ac1b-6ae1-43b5-c7e7-7a1f0fde1167"
      },
      "execution_count": null,
      "outputs": [
        {
          "output_type": "execute_result",
          "data": {
            "text/plain": [
              "13.5"
            ]
          },
          "metadata": {},
          "execution_count": 3
        }
      ]
    },
    {
      "cell_type": "code",
      "source": [
        "9 % 2"
      ],
      "metadata": {
        "colab": {
          "base_uri": "https://localhost:8080/"
        },
        "id": "6bM7BuvbWAz3",
        "outputId": "3003179a-09a5-48a2-8a38-f24555dff5e5"
      },
      "execution_count": null,
      "outputs": [
        {
          "output_type": "execute_result",
          "data": {
            "text/plain": [
              "1"
            ]
          },
          "metadata": {},
          "execution_count": 4
        }
      ]
    },
    {
      "cell_type": "code",
      "source": [
        "16 % 3"
      ],
      "metadata": {
        "colab": {
          "base_uri": "https://localhost:8080/"
        },
        "id": "z7Uiz6eAWDLq",
        "outputId": "8aba5e36-8c65-4706-a281-aca6910e453c"
      },
      "execution_count": null,
      "outputs": [
        {
          "output_type": "execute_result",
          "data": {
            "text/plain": [
              "1"
            ]
          },
          "metadata": {},
          "execution_count": 5
        }
      ]
    },
    {
      "cell_type": "code",
      "source": [
        "2 ** 3"
      ],
      "metadata": {
        "colab": {
          "base_uri": "https://localhost:8080/"
        },
        "id": "JJhe7Y_aWGoN",
        "outputId": "f8ead374-5fb6-4c39-cc6d-3940edf5f46a"
      },
      "execution_count": null,
      "outputs": [
        {
          "output_type": "execute_result",
          "data": {
            "text/plain": [
              "8"
            ]
          },
          "metadata": {},
          "execution_count": 6
        }
      ]
    },
    {
      "cell_type": "code",
      "source": [
        "divmod(17, 5)"
      ],
      "metadata": {
        "colab": {
          "base_uri": "https://localhost:8080/"
        },
        "id": "oWJiAA7xWwr_",
        "outputId": "6bdae022-a010-4aab-d46b-46646a4123c2"
      },
      "execution_count": null,
      "outputs": [
        {
          "output_type": "execute_result",
          "data": {
            "text/plain": [
              "(3, 2)"
            ]
          },
          "metadata": {},
          "execution_count": 7
        }
      ]
    },
    {
      "cell_type": "code",
      "source": [
        "11 // 5"
      ],
      "metadata": {
        "colab": {
          "base_uri": "https://localhost:8080/"
        },
        "id": "22NXuFoFXB3V",
        "outputId": "a17c3cb6-dc25-47f2-b891-ca6aa3556a53"
      },
      "execution_count": null,
      "outputs": [
        {
          "output_type": "execute_result",
          "data": {
            "text/plain": [
              "2"
            ]
          },
          "metadata": {},
          "execution_count": 8
        }
      ]
    },
    {
      "cell_type": "markdown",
      "source": [
        "Activity 2"
      ],
      "metadata": {
        "id": "r_fdPwF8Yk65"
      }
    },
    {
      "cell_type": "code",
      "source": [
        "5 != 6"
      ],
      "metadata": {
        "colab": {
          "base_uri": "https://localhost:8080/"
        },
        "id": "uhsUvXVoYoge",
        "outputId": "fce3ece7-f36c-4599-da52-e43d04d31118"
      },
      "execution_count": null,
      "outputs": [
        {
          "output_type": "execute_result",
          "data": {
            "text/plain": [
              "True"
            ]
          },
          "metadata": {},
          "execution_count": 9
        }
      ]
    },
    {
      "cell_type": "markdown",
      "source": [
        "Activity 3"
      ],
      "metadata": {
        "id": "45JOVPOzb0ty"
      }
    },
    {
      "cell_type": "code",
      "source": [
        "name = 'Sarah'\n",
        "age = 21\n",
        "gender = 'Female'\n",
        "state = 'Ogun'\n",
        "language = 'English'\n",
        "smile = True"
      ],
      "metadata": {
        "id": "nbBjiueodSCw"
      },
      "execution_count": null,
      "outputs": []
    },
    {
      "cell_type": "markdown",
      "source": [
        "or..."
      ],
      "metadata": {
        "id": "N1HxPdMQfbWE"
      }
    },
    {
      "cell_type": "code",
      "source": [
        "name, age, gender, state, language, smile = 'Sarah', 21, 'Female', 'Ogun', 'English', True"
      ],
      "metadata": {
        "id": "O2kAOaCXfdZT"
      },
      "execution_count": null,
      "outputs": []
    },
    {
      "cell_type": "code",
      "source": [
        "print(name, age, gender, state, language, smile)"
      ],
      "metadata": {
        "colab": {
          "base_uri": "https://localhost:8080/"
        },
        "id": "HlJ2NXECjB6R",
        "outputId": "64f617db-54e7-4abe-9c2b-dbeba1fa7a07"
      },
      "execution_count": null,
      "outputs": [
        {
          "output_type": "stream",
          "name": "stdout",
          "text": [
            "Sarah 21 Female Ogun English True\n"
          ]
        }
      ]
    },
    {
      "cell_type": "code",
      "source": [
        "{\n",
        "    'name' :'Sarah',\n",
        "    'age' : 21,\n",
        "    'gender' : 'Female',\n",
        "    'state' : 'Ogun',\n",
        "    'language' : 'English',\n",
        "    'smile' : True\n",
        "}"
      ],
      "metadata": {
        "id": "FJGUFJ_XensD"
      },
      "execution_count": null,
      "outputs": []
    }
  ]
}